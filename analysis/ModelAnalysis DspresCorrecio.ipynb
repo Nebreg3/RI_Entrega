{
 "cells": [
  {
   "cell_type": "markdown",
   "metadata": {},
   "source": [
    "<font size=\"8\">**Model Analysis**</font>\n"
   ]
  },
  {
   "cell_type": "markdown",
   "metadata": {},
   "source": [
    "*Néstor Bravo Egea with NIU = 1563318*"
   ]
  },
  {
   "cell_type": "markdown",
   "metadata": {},
   "source": [
    "*Juan Manuel Sánchez Melián with NIU = 1598286*"
   ]
  },
  {
   "cell_type": "markdown",
   "metadata": {},
   "source": [
    "*Jose Carlos Sanz Tirado  with NIU = 1742458*"
   ]
  },
  {
   "cell_type": "markdown",
   "metadata": {},
   "source": [
    "*Biel Majó Cornet with NIU = 1568210*"
   ]
  },
  {
   "cell_type": "markdown",
   "metadata": {},
   "source": [
    "<font size=\"6\">**Introduction**</font>"
   ]
  },
  {
   "cell_type": "markdown",
   "metadata": {},
   "source": [
    "The goal of this report is to explain how we have manufactured a Machine Learning(ML) model based in a \"Quiniela\" game for the football matches in a certain matchday of the spanish football league \"La Liga\". This model will respond take as an input a dataframe with the list of matches in a certain matchday and its output will be a predcition on the winner for this matches(\"1\" of the home team wins, \"X\" if there is a tie and \"2\" if the away team wins) based on the logic and training of the model."
   ]
  },
  {
   "cell_type": "markdown",
   "metadata": {},
   "source": [
    "<font size=\"6\">**Features**</font>"
   ]
  },
  {
   "cell_type": "markdown",
   "metadata": {},
   "source": [
    "As any ML model the main factor between a good model or a bad one are the features of that model."
   ]
  },
  {
   "cell_type": "markdown",
   "metadata": {},
   "source": [
    "In our case, we have chosen some features that by our own , maybe naive, guess we think that are significant. They are the following:"
   ]
  },
  {
   "cell_type": "markdown",
   "metadata": {},
   "source": [
    "- \"win_punct\" and \"lost_punct\" : these 2 are coeficients that are calculated from the results of the previous matches between these 2 teams. The coeficients are modulated by a function giving more importance to the previous machthes of recent seasons. The function that modulates this is $1 / ((currentseason - season)^2 + 1)$. As we have already seen and it can be computed easily this function has a maximum in currentseason and it decreases as seasons increase."
   ]
  },
  {
   "cell_type": "markdown",
   "metadata": {},
   "source": [
    "- \"points_relative_index\" : this feature is just the difference of points between the 2 teams up to that matchday. Then, this difference is also modulated by a function that gives it more importance as matchdays goes by. It is not the same a 9 points difference in the first matchday than in the last one. The function that modulates it is $matchday^{2} / (matchday^{ 2} + 38)$."
   ]
  },
  {
   "cell_type": "markdown",
   "metadata": {},
   "source": [
    "- \"last5_home\" and \"last5_away\" : just records the results of the last 5 matches played of the home team and the away team, respectively. This is to take into account streaks. Winning the last 5 games radically increases the probability to win the next one."
   ]
  },
  {
   "cell_type": "markdown",
   "metadata": {},
   "source": [
    "- \"last_season_points_home\" and \"last_season_points_away\" : just stores the amount of points that the home team and the away team reached the last season, respectively. For teams that switch division, the value changes to be the mean of the division."
   ]
  },
  {
   "cell_type": "markdown",
   "metadata": {},
   "source": [
    "It is important to remark that Win_punct, lost_punct and points_relative_index tries to encodes a temporal importance of the features in order to give the model more or less important values in function to the results of a team during a season or during the years."
   ]
  },
  {
   "cell_type": "markdown",
   "metadata": {},
   "source": [
    "<font size=\"6\">**Construction of the model**</font>"
   ]
  },
  {
   "cell_type": "markdown",
   "metadata": {},
   "source": [
    "We will explain step by step our method to construct the model."
   ]
  },
  {
   "cell_type": "code",
   "execution_count": null,
   "metadata": {},
   "outputs": [],
   "source": [
    "import os\n",
    "import sys\n",
    "import sqlite3\n",
    "import numpy as np\n",
    "import pandas as pd\n",
    "import matplotlib.pyplot as plt\n",
    "import seaborn as sns\n",
    "import joblib\n",
    "from pandas import DataFrame\n",
    "from sklearn.model_selection import train_test_split\n",
    "from sklearn.ensemble import GradientBoostingClassifier\n",
    "from sklearn.preprocessing import LabelEncoder\n",
    "from sklearn.metrics import (\n",
    "    confusion_matrix,\n",
    "    classification_report,\n",
    "    precision_recall_fscore_support,\n",
    ")\n",
    "\n",
    "# Ensure the parent directory is in the path\n",
    "sys.path.append(os.path.abspath(os.path.join(os.getcwd(), \"..\")))\n",
    "\n",
    "import settings"
   ]
  },
  {
   "cell_type": "markdown",
   "metadata": {},
   "source": [
    "We need to import all the necessary libraries and our dataframe."
   ]
  },
  {
   "cell_type": "code",
   "execution_count": null,
   "metadata": {},
   "outputs": [],
   "source": [
    "with sqlite3.connect(settings.DATABASE_PATH) as conn:\n",
    "    df = pd.read_sql(\n",
    "        f\"\"\"\n",
    "            SELECT * FROM Matches\n",
    "        \"\"\",\n",
    "        conn,\n",
    "    )"
   ]
  },
  {
   "cell_type": "code",
   "execution_count": null,
   "metadata": {},
   "outputs": [],
   "source": [
    "df = df.dropna(subset=[\"score\"]).copy()\n",
    "df[\"home_score\"] = df[\"score\"].str.split(\":\").str[0].astype(int)\n",
    "df[\"away_score\"] = df[\"score\"].str.split(\":\").str[1].astype(int)\n",
    "df[\"home_win\"] = (df[\"home_score\"] > df[\"away_score\"]).astype(int)\n",
    "df[\"away_win\"] = (df[\"home_score\"] < df[\"away_score\"]).astype(int)\n",
    "df[\"tie\"] = (df[\"home_score\"] == df[\"away_score\"]).astype(int)\n",
    "df[\"difference_score\"] = abs(df[\"home_score\"] - df[\"away_score\"])"
   ]
  },
  {
   "cell_type": "markdown",
   "metadata": {},
   "source": [
    "We construct new columns to have better organisation on the wins and the scores of each team."
   ]
  },
  {
   "cell_type": "code",
   "execution_count": null,
   "metadata": {},
   "outputs": [],
   "source": [
    "df = df.dropna(subset=[\"score\"])\n",
    "df[\"season\"] = df[\"season\"].str.split(\"-\").str[0].astype(int)\n",
    "\n",
    "conditions = [(df[\"home_win\"] == 1), (df[\"tie\"] == 1), (df[\"away_win\"] == 1)]\n",
    "\n",
    "choices = [1, 0, -1]\n",
    "\n",
    "df[\"result\"] = np.select(conditions, choices, default=None)"
   ]
  },
  {
   "cell_type": "markdown",
   "metadata": {},
   "source": [
    "We drop the score colum now that we have already the columns \"home_score\" and \"away_score\" and we construct the \"result\" colum. This \"result\" will be our target later."
   ]
  },
  {
   "cell_type": "code",
   "execution_count": null,
   "metadata": {},
   "outputs": [],
   "source": [
    "def calculate_team_results(df, max_matchday=None):\n",
    "    \"\"\"\n",
    "    Calculates team results up to a specific matchday.\n",
    "    Has been modified to include just the necessary columns for the model.\n",
    "\n",
    "    :param df: DataFrame with match data\n",
    "    :param max_matchday: Only consider matches up to this matchday (exclusive)\n",
    "    :return: DataFrame with team points\n",
    "    \"\"\"\n",
    "    if max_matchday is not None:\n",
    "        df = df[df[\"matchday\"] < max_matchday].copy()\n",
    "\n",
    "    df_results = (\n",
    "        pd.concat(\n",
    "            [\n",
    "                df.groupby([\"season\", \"home_team\"])\n",
    "                .agg(\n",
    "                    W=(\"home_win\", \"sum\"),\n",
    "                    L=(\"away_win\", \"sum\"),\n",
    "                    T=(\"tie\", \"sum\"),\n",
    "                )\n",
    "                .reset_index()\n",
    "                .rename(columns={\"home_team\": \"team\"}),\n",
    "                df.groupby([\"season\", \"away_team\"])\n",
    "                .agg(\n",
    "                    W=(\"away_win\", \"sum\"),\n",
    "                    L=(\"home_win\", \"sum\"),\n",
    "                    T=(\"tie\", \"sum\"),\n",
    "                )\n",
    "                .reset_index()\n",
    "                .rename(columns={\"away_team\": \"team\"}),\n",
    "            ]\n",
    "        )\n",
    "        .groupby([\"season\", \"team\"])\n",
    "        .sum()\n",
    "        .reset_index()\n",
    "    )\n",
    "\n",
    "    df_results[\"points\"] = df_results[\"W\"] * 3 + df_results[\"T\"]\n",
    "\n",
    "    df_results = df_results.sort_values(\n",
    "        by=[\"season\", \"points\"],\n",
    "        ascending=[False, False],\n",
    "    ).reset_index(drop=True)\n",
    "\n",
    "    df_results[\"rank\"] = (\n",
    "        df_results.groupby([\"season\"])[\"points\"]\n",
    "        .rank(\"first\", ascending=False)\n",
    "        .astype(int)\n",
    "    )\n",
    "\n",
    "    df_results = df_results[\n",
    "        [\n",
    "            \"season\",\n",
    "            \"team\",\n",
    "            \"points\",\n",
    "        ]\n",
    "    ]\n",
    "    return df_results"
   ]
  },
  {
   "cell_type": "markdown",
   "metadata": {},
   "source": [
    "This is a function extracted from the data science part that will be useful here aswell to calculate results up to one matchday."
   ]
  },
  {
   "cell_type": "code",
   "execution_count": null,
   "metadata": {},
   "outputs": [],
   "source": [
    "def team_confrontations(df, team1, team2):\n",
    "    \"\"\"\n",
    "    Returns the confrontations between two teams\n",
    "\n",
    "    :param df: DataFrame with match data\n",
    "    :param team1: First team\n",
    "    :param team2: Second team\n",
    "    :return: DataFrame with confrontations between the two teams\n",
    "    \"\"\"\n",
    "    df_confrontations = df.loc[\n",
    "        ((df[\"home_team\"] == team1) | (df[\"away_team\"] == team1))\n",
    "        & ((df[\"home_team\"] == team2) | (df[\"away_team\"] == team2))\n",
    "    ]\n",
    "\n",
    "    return df_confrontations\n",
    "\n",
    "\n",
    "def won_games(df, team: str):\n",
    "    \"\"\"\n",
    "    Returns those winning games for a given team\n",
    "\n",
    "    :param df: DataFrame with match data\n",
    "    :param team: Team name\n",
    "    :return: DataFrame with winning games for the team\n",
    "    \"\"\"\n",
    "    home_wins = (df[\"home_team\"] == team) & (df[\"home_win\"] == 1)\n",
    "    away_wins = (df[\"away_team\"] == team) & (df[\"away_win\"] == 1)\n",
    "    return df[home_wins | away_wins]\n",
    "\n",
    "\n",
    "def lost_games(df, team: str):\n",
    "    \"\"\"\n",
    "    Returns those winning games for a given team\n",
    "\n",
    "    :param df: DataFrame with match data\n",
    "    :param team: Team name\n",
    "    :return: DataFrame with winning games for the team\n",
    "    \"\"\"\n",
    "    home_lost = (df[\"home_team\"] == team) & (df[\"home_win\"] == 0)\n",
    "    away_lost = (df[\"away_team\"] == team) & (df[\"away_win\"] == 0)\n",
    "    tie_games = (df[\"home_team\"] == team) & (df[\"tie\"] == 1) | (\n",
    "        df[\"away_team\"] == team\n",
    "    ) & (df[\"tie\"] == 1)\n",
    "\n",
    "    return df[(home_lost | away_lost) & ~tie_games]"
   ]
  },
  {
   "cell_type": "code",
   "execution_count": 42,
   "metadata": {},
   "outputs": [],
   "source": [
    "def win_lost_index(row, df_conf_dict):\n",
    "    \"\"\"\n",
    "    Calculates win and loss punctuation between two teams for the row's season,\n",
    "    using a precomputed dictionary of relevant confrontations for each season.\n",
    "\n",
    "    This function returns a victory and lose punctuation between 2 teams.\n",
    "    It is given by 1 / ((currentseason - season)^2 + 1)\n",
    "    This function has a maximum in currentseason and it deacreses as season increase\n",
    "    Giving more importance to recent matches.\n",
    "    It is symmetric for both teams, so win_team1 = lost_team2.\n",
    "\n",
    "    :param row: A row from the DataFrame containing \"season\", \"home_team\" and \"away_team\".\n",
    "    :param df_conf_dict: A dictionary containing relevant confrontations for each season.\n",
    "    :return: A tuple with the win and loss punctuation for the row's season.\n",
    "    \"\"\"\n",
    "    season = row[\"season\"]\n",
    "    team1 = row[\"home_team\"]\n",
    "    team2 = row[\"away_team\"]\n",
    "\n",
    "    df_conf = df_conf_dict.get((team1, team2), pd.DataFrame())\n",
    "\n",
    "    df_won = won_games(df_conf, team1)\n",
    "    if not df_won.empty:\n",
    "        df_won[\"win_punct\"] = 1 / ((season - df_won[\"season\"].astype(int)) ** 2 + 1)\n",
    "        win_punct = df_won[\"win_punct\"].sum()\n",
    "    else:\n",
    "        win_punct = 0\n",
    "\n",
    "    df_lost = lost_games(df_conf, team1)\n",
    "    if not df_lost.empty:\n",
    "        df_lost[\"lost_punct\"] = 1 / ((season - df_lost[\"season\"].astype(int)) ** 2 + 1)\n",
    "        lost_punct = df_lost[\"lost_punct\"].sum()\n",
    "    else:\n",
    "        lost_punct = 0\n",
    "\n",
    "    return win_punct, lost_punct\n",
    "\n",
    "\n",
    "def inform_win_lost_index(df, df_calculate, depth=75):\n",
    "    \"\"\"\n",
    "    Adds win and loss punctuation to the DataFrame for each row's season.\n",
    "\n",
    "    :param df: DataFrame containing match data for all teams.\n",
    "    :param df_calculate: DataFrame containing the matches to calculate the win and loss punctuation.\n",
    "    :return: DataFrame with the win and loss punctuation for each row's season.\n",
    "    \"\"\"\n",
    "    max_season = df_calculate[\"season\"].max()\n",
    "    df_recent = df[\n",
    "        (df[\"season\"] >= (max_season - depth)) & (df[\"season\"] < max_season)\n",
    "    ].copy()\n",
    "\n",
    "    teams = df_calculate[[\"home_team\", \"away_team\"]].drop_duplicates()\n",
    "    df_conf_dict = {\n",
    "        (team1, team2): team_confrontations(df_recent, team1, team2)\n",
    "        for team1, team2 in zip(teams[\"home_team\"], teams[\"away_team\"])\n",
    "    }\n",
    "\n",
    "    df_calculate[[\"win_punct\", \"lost_punct\"]] = df_calculate.apply(\n",
    "        lambda row: win_lost_index(row, df_conf_dict), axis=1, result_type=\"expand\"\n",
    "    )\n",
    "\n",
    "    return df_calculate"
   ]
  },
  {
   "cell_type": "markdown",
   "metadata": {},
   "source": [
    "These functions are used to create the features we explained before \"win_punct\" and \"lose_punct\"."
   ]
  },
  {
   "cell_type": "code",
   "execution_count": null,
   "metadata": {},
   "outputs": [],
   "source": [
    "def difference_points(row, df_results_dict):\n",
    "    \"\"\"\n",
    "    Calculates the difference in points between home and away teams\n",
    "    considering only matches before the current matchday.\n",
    "\n",
    "    :param row: DataFrame row with home_team, away_team, season, and matchday\n",
    "    :param df_results_dict: Dictionary of {season: {matchday: results_df}}\n",
    "    :return: Point difference between home and away team\n",
    "    \"\"\"\n",
    "    season = row[\"season\"]\n",
    "    matchday = row[\"matchday\"]\n",
    "\n",
    "    results_key = (season, matchday)\n",
    "    if results_key not in df_results_dict:\n",
    "        return 0\n",
    "\n",
    "    results_df = df_results_dict[results_key]\n",
    "\n",
    "    try:\n",
    "        home_team_points = results_df.loc[\n",
    "            results_df[\"team\"] == row[\"home_team\"], \"points\"\n",
    "        ].iloc[0]\n",
    "        away_team_points = results_df.loc[\n",
    "            results_df[\"team\"] == row[\"away_team\"], \"points\"\n",
    "        ].iloc[0]\n",
    "        return home_team_points - away_team_points\n",
    "    except (KeyError, IndexError):\n",
    "        return 0\n",
    "\n",
    "\n",
    "def inform_relatives_points(df, df_calculate):\n",
    "    \"\"\"\n",
    "    Calculates relative points for each match considering only previous matchdays.\n",
    "\n",
    "    :param df: Complete DataFrame with all matches\n",
    "    :param df_calculate: DataFrame with matches to calculate features for\n",
    "    :return: DataFrame with added relative points features\n",
    "    \"\"\"\n",
    "    df_results_dict = {}\n",
    "\n",
    "    for season in df_calculate[\"season\"].unique():\n",
    "        season_data = df[df[\"season\"] == season].copy()\n",
    "\n",
    "        for matchday in df_calculate[df_calculate[\"season\"] == season][\n",
    "            \"matchday\"\n",
    "        ].unique():\n",
    "            results = calculate_team_results(season_data, max_matchday=matchday)\n",
    "            df_results_dict[(season, matchday)] = results\n",
    "\n",
    "    df_calculate[\"points_relative\"] = df_calculate.apply(\n",
    "        lambda row: difference_points(row, df_results_dict), axis=1\n",
    "    )\n",
    "\n",
    "    df_calculate[\"points_relative_index\"] = df_calculate.apply(\n",
    "        lambda row: row[\"points_relative\"]\n",
    "        * (row[\"matchday\"] ** 2 / (row[\"matchday\"] ** 2 + 38))\n",
    "        if row[\"matchday\"] > 0\n",
    "        else 0,\n",
    "        axis=1,\n",
    "    )\n",
    "\n",
    "    return df_calculate"
   ]
  },
  {
   "cell_type": "markdown",
   "metadata": {},
   "source": [
    "These ones are to create the feature \"points_relative_index\"."
   ]
  },
  {
   "cell_type": "code",
   "execution_count": null,
   "metadata": {},
   "outputs": [],
   "source": [
    "def calculate_results(df):\n",
    "    \"\"\"\n",
    "    Precalculates results for all matches.\n",
    "\n",
    "    :param df: DataFrame with match data\n",
    "    :return: DataFrame with results for all matches\n",
    "    \"\"\"\n",
    "    home_results = df[[\"matchday\", \"season\", \"home_team\", \"home_win\", \"tie\"]].copy()\n",
    "    home_results[\"team\"] = home_results[\"home_team\"]\n",
    "    home_results[\"Result\"] = np.where(\n",
    "        home_results[\"tie\"] == 1, \"T\", np.where(home_results[\"home_win\"] == 1, \"W\", \"L\")\n",
    "    )\n",
    "\n",
    "    away_results = df[[\"matchday\", \"season\", \"away_team\", \"away_win\", \"tie\"]].copy()\n",
    "    away_results[\"team\"] = away_results[\"away_team\"]\n",
    "    away_results[\"Result\"] = np.where(\n",
    "        away_results[\"tie\"] == 1, \"T\", np.where(away_results[\"away_win\"] == 1, \"W\", \"L\")\n",
    "    )\n",
    "\n",
    "    all_results = pd.concat(\n",
    "        [\n",
    "            home_results[[\"matchday\", \"season\", \"team\", \"Result\"]],\n",
    "            away_results[[\"matchday\", \"season\", \"team\", \"Result\"]],\n",
    "        ]\n",
    "    ).sort_values([\"team\", \"season\", \"matchday\"], ascending=[True, True, False])\n",
    "\n",
    "    return all_results\n",
    "\n",
    "\n",
    "def get_last_5_results(all_results, matchday, team, season):\n",
    "    \"\"\"\n",
    "    Gets all available results up to 5 for a team in a season.\n",
    "\n",
    "    :param all_results: DataFrame with all results\n",
    "    :param matchday: Current matchday\n",
    "    :param team: Team name\n",
    "    :param season: Season\n",
    "    :return: Tuple with the last 5 results and the number of matches\n",
    "    \"\"\"\n",
    "    mask = (\n",
    "        (all_results[\"team\"] == team)\n",
    "        & (all_results[\"season\"] == season)\n",
    "        & (all_results[\"matchday\"] < matchday)\n",
    "    )\n",
    "\n",
    "    results = all_results[mask][\"Result\"].head(5).tolist()\n",
    "    return results, len(results)\n",
    "\n",
    "\n",
    "def convert_results_to_points(results_tuple):\n",
    "    \"\"\"\n",
    "    Converts results to points with correction factor for fewer than 5 matches.\n",
    "    The correction factor is 5 / num_matches.\n",
    "\n",
    "    :param results_tuple: Tuple with results and number of matches\n",
    "    :return: Corrected points\n",
    "    \"\"\"\n",
    "    results, num_matches = results_tuple\n",
    "    if num_matches == 0:\n",
    "        return 0\n",
    "\n",
    "    points_map = {\"W\": 3, \"L\": 0, \"T\": 1}\n",
    "    total_points = sum(points_map[result] for result in results)\n",
    "\n",
    "    correction_factor = 5 / num_matches\n",
    "    corrected_points = total_points * correction_factor\n",
    "\n",
    "    return round(corrected_points, 2)\n",
    "\n",
    "\n",
    "def last5index(df, df_predict):\n",
    "    \"\"\"\n",
    "    Calculates the last 5 matches index for all teams with correction for fewer matches.\n",
    "\n",
    "    :param df: DataFrame with all matches\n",
    "    :param df_predict: DataFrame with matches to calculate features for\n",
    "    :return: DataFrame with added last 5 matches index features\n",
    "    \"\"\"\n",
    "    # df_calculate has the last 5 matches results so takes the same season as df_predict and the matchday is less than the matchday of the match to predict\n",
    "    df_calculate = df.loc[\n",
    "        (df[\"season\"] == df_predict[\"season\"].max())\n",
    "        & (df[\"matchday\"] < df_predict[\"matchday\"].max())\n",
    "        & (df[\"matchday\"] >= df_predict[\"matchday\"].max() - 5)\n",
    "    ].copy()\n",
    "\n",
    "    all_results = calculate_results(df_calculate)\n",
    "\n",
    "    df_predict[\"last5_home\"] = df_predict.apply(\n",
    "        lambda row: get_last_5_results(\n",
    "            all_results, row[\"matchday\"], row[\"home_team\"], row[\"season\"]\n",
    "        ),\n",
    "        axis=1,\n",
    "    )\n",
    "\n",
    "    df_predict[\"last5_away\"] = df_predict.apply(\n",
    "        lambda row: get_last_5_results(\n",
    "            all_results, row[\"matchday\"], row[\"away_team\"], row[\"season\"]\n",
    "        ),\n",
    "        axis=1,\n",
    "    )\n",
    "    df_predict[\"last5_home\"] = df_predict[\"last5_home\"].apply(convert_results_to_points)\n",
    "    df_predict[\"last5_away\"] = df_predict[\"last5_away\"].apply(convert_results_to_points)\n",
    "\n",
    "    return df_predict"
   ]
  },
  {
   "cell_type": "markdown",
   "metadata": {},
   "source": [
    "These functions to calculate the last 5 matches of the home team and away team."
   ]
  },
  {
   "cell_type": "code",
   "execution_count": null,
   "metadata": {},
   "outputs": [],
   "source": [
    "def last_season_position(df, df_predict):\n",
    "    \"\"\"\n",
    "    Adds the last season points in a new column.\n",
    "    If a team was not in the last season, the average of the last season minus 20 is used.\n",
    "\n",
    "    :param df: DataFrame with all matches\n",
    "    :param df_predict: DataFrame with matches to calculate features for\n",
    "    :return: DataFrame with added last season points\n",
    "    \"\"\"\n",
    "    df_calculate = df.loc[(df[\"season\"] == df_predict[\"season\"].max() - 1)].copy()\n",
    "    df_results = calculate_team_results(df_calculate)\n",
    "\n",
    "    df_predict[\"last_season_points_home\"] = df_predict.apply(\n",
    "        lambda row: df_results.loc[\n",
    "            df_results[\"team\"] == row[\"home_team\"], \"points\"\n",
    "        ].iloc[0]\n",
    "        if row[\"home_team\"] in df_results[\"team\"].values\n",
    "        else 0,\n",
    "        axis=1,\n",
    "    )\n",
    "\n",
    "    df_predict[\"last_season_points_away\"] = df_predict.apply(\n",
    "        lambda row: df_results.loc[\n",
    "            df_results[\"team\"] == row[\"away_team\"], \"points\"\n",
    "        ].iloc[0]\n",
    "        if row[\"away_team\"] in df_results[\"team\"].values\n",
    "        else 0,\n",
    "        axis=1,\n",
    "    )\n",
    "\n",
    "    # Improvement, calcualte mean of the teams that ascend to the league\n",
    "    df_predict[\"last_season_points_home\"] = df_predict[\n",
    "        \"last_season_points_home\"\n",
    "    ].replace(0, df_results[\"points\"].mean() - 20)\n",
    "    df_predict[\"last_season_points_away\"] = df_predict[\n",
    "        \"last_season_points_away\"\n",
    "    ].replace(0, df_results[\"points\"].mean() - 20)\n",
    "    return df_predict"
   ]
  },
  {
   "cell_type": "markdown",
   "metadata": {},
   "source": [
    "This functions to calculate the points of last season."
   ]
  },
  {
   "cell_type": "markdown",
   "metadata": {},
   "source": [
    "From all the data we have we have selected these especifically to testo the accuracy of the model."
   ]
  },
  {
   "cell_type": "markdown",
   "metadata": {},
   "source": [
    "## Pretreatment"
   ]
  },
  {
   "cell_type": "code",
   "execution_count": null,
   "metadata": {},
   "outputs": [],
   "source": [
    "features = [\n",
    "    \"win_punct\",\n",
    "    \"lost_punct\",\n",
    "    \"points_relative_index\",\n",
    "    \"last5_home\",\n",
    "    \"last5_away\",\n",
    "    \"last_season_points_home\",\n",
    "    \"last_season_points_away\",\n",
    "]\n",
    "target = \"result\""
   ]
  },
  {
   "cell_type": "code",
   "execution_count": null,
   "metadata": {},
   "outputs": [
    {
     "name": "stdout",
     "output_type": "stream",
     "text": [
      "Relative points calculated\n",
      "Win and loss index calculated\n",
      "Last 5 index calculated\n",
      "Last season position calculated\n",
      "Relative points calculated\n",
      "Win and loss index calculated\n",
      "Last 5 index calculated\n",
      "Last season position calculated\n"
     ]
    }
   ],
   "source": [
    "# Data that will be used for training\n",
    "train_season = 2019\n",
    "depth = 20  # Number of seasons to consider for training\n",
    "\n",
    "df_train = df.loc[\n",
    "    (df[\"season\"] > (train_season - depth)) & (df[\"season\"] <= train_season)\n",
    "].copy()\n",
    "\n",
    "df_test = df.loc[\n",
    "    df[\"season\"] == train_season\n",
    "].copy()\n",
    "\n",
    "df_train = inform_relatives_points(df, df_train)\n",
    "print(\"Relative points calculated\")\n",
    "df_train = inform_win_lost_index(df, df_train)\n",
    "print(\"Win and loss index calculated\")\n",
    "df_train = last5index(df, df_train)\n",
    "print(\"Last 5 index calculated\")\n",
    "df_train = last_season_position(df, df_train)\n",
    "print(\"Last season position calculated\")\n",
    "\n",
    "df_test = inform_relatives_points(df, df_test)\n",
    "print(\"Relative points calculated\")\n",
    "df_test = inform_win_lost_index(df, df_test)\n",
    "print(\"Win and loss index calculated\")\n",
    "df_test = last5index(df, df_test)\n",
    "print(\"Last 5 index calculated\")\n",
    "df_test = last_season_position(df, df_test)\n",
    "print(\"Last season position calculated\")\n",
    "\n"
   ]
  },
  {
   "cell_type": "markdown",
   "metadata": {},
   "source": [
    "We apply all our functions to the dataframe we want to study and now we have the features we want and we can train the model and test it. We will use the Gradient Boosting Classifier method."
   ]
  },
  {
   "cell_type": "markdown",
   "metadata": {},
   "source": [
    "## Train"
   ]
  },
  {
   "cell_type": "code",
   "execution_count": 43,
   "metadata": {},
   "outputs": [
    {
     "name": "stdout",
     "output_type": "stream",
     "text": [
      "Validation Accuracy: 2.85%\n"
     ]
    },
    {
     "data": {
      "text/plain": [
       "['../models/prova20-11.pkl']"
      ]
     },
     "execution_count": 43,
     "metadata": {},
     "output_type": "execute_result"
    }
   ],
   "source": [
    "features = [\n",
    "    \"win_punct\",\n",
    "    \"lost_punct\",\n",
    "    \"points_relative_index\",\n",
    "    \"last5_home\",\n",
    "    \"last5_away\",\n",
    "    \"last_season_points_home\",\n",
    "    \"last_season_points_away\",\n",
    "]\n",
    "target = \"result\"\n",
    "\n",
    "x_train = df_train[features]\n",
    "y_train = df_train[target]\n",
    "\n",
    "x_val = df_test[features]\n",
    "y_val = df_test[target]\n",
    "\n",
    "le = LabelEncoder()\n",
    "y_train = le.fit_transform(y_train)\n",
    "\n",
    "clf = GradientBoostingClassifier()\n",
    "clf.fit(x_train, y_train)\n",
    "\n",
    "\n",
    "y_val_pred = clf.predict(x_val)\n",
    "validation_accuracy = (y_val_pred == y_val).mean()\n",
    "print(f\"Validation Accuracy: {validation_accuracy:.2%}\")\n",
    "\n",
    "# Save the model\n",
    "model_name = \"prova20-11\"\n",
    "joblib.dump(clf, f\"../models/{model_name}.pkl\")\n"
   ]
  },
  {
   "cell_type": "markdown",
   "metadata": {},
   "source": [
    "Here we check the accuracy of our model. Choosing 10 season to train we reach a very good accuracy of 72 %. This is extremely high considering football is a very unpredictible game. We can test how the accuracy changes with respect to the depth and do a plot."
   ]
  },
  {
   "cell_type": "code",
   "execution_count": null,
   "metadata": {},
   "outputs": [],
   "source": [
    "depths = [30, 20, 5, 10]\n",
    "validation_accuracies = []\n",
    "\n",
    "for depth in depths:\n",
    "    df_train = df.loc[\n",
    "        (df[\"season\"] > (train_season - depth)) & (df[\"season\"] <= train_season)\n",
    "    ].copy()\n",
    "\n",
    "    df_train = inform_relatives_points(df, df_train)\n",
    "    df_train = inform_win_lost_index(df, df_train)\n",
    "    df_train = last5index(df, df_train)\n",
    "    df_train = last_season_position(df, df_train)\n",
    "    x_train = df_train[features]\n",
    "    y_train = df_train[target]\n",
    "    le = LabelEncoder()\n",
    "    y_train = le.fit_transform(y_train)\n",
    "\n",
    "    x_train, x_val, y_train, y_val = train_test_split(\n",
    "        x_train, y_train, test_size=0.1, random_state=40\n",
    "    )\n",
    "\n",
    "    clf = GradientBoostingClassifier()\n",
    "    clf.fit(x_train, y_train)\n",
    "    y_val_pred = clf.predict(x_val)\n",
    "    validation_accuracy = (y_val_pred == y_val).mean()\n",
    "    validation_accuracies.append(validation_accuracy)\n",
    "    print(f\"Depth {depth} - Validation Accuracy: {validation_accuracy:.2%}\")"
   ]
  },
  {
   "cell_type": "code",
   "execution_count": null,
   "metadata": {},
   "outputs": [],
   "source": [
    "plt.figure(figsize=(10, 6))\n",
    "plt.bar(depths, validation_accuracies, color=\"skyblue\", edgecolor=\"black\")\n",
    "plt.xlabel(\"Depth\")\n",
    "plt.ylabel(\"Validation Accuracy\")\n",
    "plt.title(\"Validation Accuracy vs. Depth\")\n",
    "plt.xticks(depths)\n",
    "plt.grid(axis=\"y\", linestyle=\"--\", alpha=0.7)\n",
    "plt.show()"
   ]
  },
  {
   "cell_type": "markdown",
   "metadata": {},
   "source": [
    "We can see here that there is a maximum with a dataframe using the last 10 seasons. It seems that this value is the sweet spot that makes the data to have enough historical value and enough recency so that the historical matches between 2 teams are significant."
   ]
  },
  {
   "cell_type": "markdown",
   "metadata": {},
   "source": [
    "## Performance"
   ]
  },
  {
   "cell_type": "code",
   "execution_count": 29,
   "metadata": {},
   "outputs": [
    {
     "name": "stdout",
     "output_type": "stream",
     "text": [
      "=== Model Performance Analysis ===\n",
      "\n"
     ]
    },
    {
     "data": {
      "image/png": "[encoded data removed]",
      "text/plain": [
       "<Figure size 1200x800 with 1 Axes>"
      ]
     },
     "metadata": {},
     "output_type": "display_data"
    },
    {
     "ename": "ValueError",
     "evalue": "Classification metrics can't handle a mix of unknown and multiclass targets",
     "output_type": "error",
     "traceback": [
      "\u001b[1;31m---------------------------------------------------------------------------\u001b[0m",
      "\u001b[1;31mValueError\u001b[0m                                Traceback (most recent call last)",
      "\u001b[1;32m~\\AppData\\Local\\Temp\\ipykernel_8400\\705109747.py\u001b[0m in \u001b[0;36m<module>\u001b[1;34m\u001b[0m\n\u001b[0;32m    109\u001b[0m )\n\u001b[0;32m    110\u001b[0m \u001b[0mfeature_importance\u001b[0m \u001b[1;33m=\u001b[0m \u001b[0mfeature_importance\u001b[0m\u001b[1;33m.\u001b[0m\u001b[0msort_values\u001b[0m\u001b[1;33m(\u001b[0m\u001b[1;34m\"importance\"\u001b[0m\u001b[1;33m,\u001b[0m \u001b[0mascending\u001b[0m\u001b[1;33m=\u001b[0m\u001b[1;32mFalse\u001b[0m\u001b[1;33m)\u001b[0m\u001b[1;33m\u001b[0m\u001b[1;33m\u001b[0m\u001b[0m\n\u001b[1;32m--> 111\u001b[1;33m \u001b[0manalyze_model_performance\u001b[0m\u001b[1;33m(\u001b[0m\u001b[0mfeature_importance\u001b[0m\u001b[1;33m,\u001b[0m \u001b[0my_val\u001b[0m\u001b[1;33m,\u001b[0m \u001b[0my_val_pred\u001b[0m\u001b[1;33m,\u001b[0m \u001b[0mclf\u001b[0m\u001b[1;33m)\u001b[0m\u001b[1;33m\u001b[0m\u001b[1;33m\u001b[0m\u001b[0m\n\u001b[0m",
      "\u001b[1;32m~\\AppData\\Local\\Temp\\ipykernel_8400\\705109747.py\u001b[0m in \u001b[0;36manalyze_model_performance\u001b[1;34m(feature_importance, y_true, y_pred, clf)\u001b[0m\n\u001b[0;32m     96\u001b[0m \u001b[1;33m\u001b[0m\u001b[0m\n\u001b[0;32m     97\u001b[0m     \u001b[0mplot_feature_importance\u001b[0m\u001b[1;33m(\u001b[0m\u001b[0mfeature_importance\u001b[0m\u001b[1;33m)\u001b[0m\u001b[1;33m\u001b[0m\u001b[1;33m\u001b[0m\u001b[0m\n\u001b[1;32m---> 98\u001b[1;33m     \u001b[0mplot_confusion_matrix_analysis\u001b[0m\u001b[1;33m(\u001b[0m\u001b[0my_true\u001b[0m\u001b[1;33m,\u001b[0m \u001b[0my_pred\u001b[0m\u001b[1;33m,\u001b[0m \u001b[0mclf\u001b[0m\u001b[1;33m)\u001b[0m\u001b[1;33m\u001b[0m\u001b[1;33m\u001b[0m\u001b[0m\n\u001b[0m\u001b[0;32m     99\u001b[0m \u001b[1;33m\u001b[0m\u001b[0m\n\u001b[0;32m    100\u001b[0m     \u001b[0maccuracy\u001b[0m \u001b[1;33m=\u001b[0m \u001b[1;33m(\u001b[0m\u001b[0my_true\u001b[0m \u001b[1;33m==\u001b[0m \u001b[0my_pred\u001b[0m\u001b[1;33m)\u001b[0m\u001b[1;33m.\u001b[0m\u001b[0mmean\u001b[0m\u001b[1;33m(\u001b[0m\u001b[1;33m)\u001b[0m\u001b[1;33m\u001b[0m\u001b[1;33m\u001b[0m\u001b[0m\n",
      "\u001b[1;32m~\\AppData\\Local\\Temp\\ipykernel_8400\\705109747.py\u001b[0m in \u001b[0;36mplot_confusion_matrix_analysis\u001b[1;34m(y_true, y_pred, clf, figsize)\u001b[0m\n\u001b[0;32m     46\u001b[0m     \u001b[1;33m:\u001b[0m\u001b[0mparam\u001b[0m \u001b[0mfigsize\u001b[0m\u001b[1;33m:\u001b[0m \u001b[0mFigure\u001b[0m \u001b[0msize\u001b[0m\u001b[1;33m\u001b[0m\u001b[1;33m\u001b[0m\u001b[0m\n\u001b[0;32m     47\u001b[0m     \"\"\"\n\u001b[1;32m---> 48\u001b[1;33m     \u001b[0mconf_matrix\u001b[0m \u001b[1;33m=\u001b[0m \u001b[0mconfusion_matrix\u001b[0m\u001b[1;33m(\u001b[0m\u001b[0my_true\u001b[0m\u001b[1;33m,\u001b[0m \u001b[0my_pred\u001b[0m\u001b[1;33m)\u001b[0m\u001b[1;33m\u001b[0m\u001b[1;33m\u001b[0m\u001b[0m\n\u001b[0m\u001b[0;32m     49\u001b[0m \u001b[1;33m\u001b[0m\u001b[0m\n\u001b[0;32m     50\u001b[0m     \u001b[0mclasses\u001b[0m \u001b[1;33m=\u001b[0m \u001b[0mclf\u001b[0m\u001b[1;33m.\u001b[0m\u001b[0mclasses_\u001b[0m\u001b[1;33m\u001b[0m\u001b[1;33m\u001b[0m\u001b[0m\n",
      "\u001b[1;32mc:\\Users\\NESTOR\\Documents\\UAB\\Master\\RI\\RI_Entrega\\.venv\\lib\\site-packages\\sklearn\\utils\\validation.py\u001b[0m in \u001b[0;36minner_f\u001b[1;34m(*args, **kwargs)\u001b[0m\n\u001b[0;32m     61\u001b[0m             \u001b[0mextra_args\u001b[0m \u001b[1;33m=\u001b[0m \u001b[0mlen\u001b[0m\u001b[1;33m(\u001b[0m\u001b[0margs\u001b[0m\u001b[1;33m)\u001b[0m \u001b[1;33m-\u001b[0m \u001b[0mlen\u001b[0m\u001b[1;33m(\u001b[0m\u001b[0mall_args\u001b[0m\u001b[1;33m)\u001b[0m\u001b[1;33m\u001b[0m\u001b[1;33m\u001b[0m\u001b[0m\n\u001b[0;32m     62\u001b[0m             \u001b[1;32mif\u001b[0m \u001b[0mextra_args\u001b[0m \u001b[1;33m<=\u001b[0m \u001b[1;36m0\u001b[0m\u001b[1;33m:\u001b[0m\u001b[1;33m\u001b[0m\u001b[1;33m\u001b[0m\u001b[0m\n\u001b[1;32m---> 63\u001b[1;33m                 \u001b[1;32mreturn\u001b[0m \u001b[0mf\u001b[0m\u001b[1;33m(\u001b[0m\u001b[1;33m*\u001b[0m\u001b[0margs\u001b[0m\u001b[1;33m,\u001b[0m \u001b[1;33m**\u001b[0m\u001b[0mkwargs\u001b[0m\u001b[1;33m)\u001b[0m\u001b[1;33m\u001b[0m\u001b[1;33m\u001b[0m\u001b[0m\n\u001b[0m\u001b[0;32m     64\u001b[0m \u001b[1;33m\u001b[0m\u001b[0m\n\u001b[0;32m     65\u001b[0m             \u001b[1;31m# extra_args > 0\u001b[0m\u001b[1;33m\u001b[0m\u001b[1;33m\u001b[0m\u001b[1;33m\u001b[0m\u001b[0m\n",
      "\u001b[1;32mc:\\Users\\NESTOR\\Documents\\UAB\\Master\\RI\\RI_Entrega\\.venv\\lib\\site-packages\\sklearn\\metrics\\_classification.py\u001b[0m in \u001b[0;36mconfusion_matrix\u001b[1;34m(y_true, y_pred, labels, sample_weight, normalize)\u001b[0m\n\u001b[0;32m    297\u001b[0m \u001b[1;33m\u001b[0m\u001b[0m\n\u001b[0;32m    298\u001b[0m     \"\"\"\n\u001b[1;32m--> 299\u001b[1;33m     \u001b[0my_type\u001b[0m\u001b[1;33m,\u001b[0m \u001b[0my_true\u001b[0m\u001b[1;33m,\u001b[0m \u001b[0my_pred\u001b[0m \u001b[1;33m=\u001b[0m \u001b[0m_check_targets\u001b[0m\u001b[1;33m(\u001b[0m\u001b[0my_true\u001b[0m\u001b[1;33m,\u001b[0m \u001b[0my_pred\u001b[0m\u001b[1;33m)\u001b[0m\u001b[1;33m\u001b[0m\u001b[1;33m\u001b[0m\u001b[0m\n\u001b[0m\u001b[0;32m    300\u001b[0m     \u001b[1;32mif\u001b[0m \u001b[0my_type\u001b[0m \u001b[1;32mnot\u001b[0m \u001b[1;32min\u001b[0m \u001b[1;33m(\u001b[0m\u001b[1;34m\"binary\"\u001b[0m\u001b[1;33m,\u001b[0m \u001b[1;34m\"multiclass\"\u001b[0m\u001b[1;33m)\u001b[0m\u001b[1;33m:\u001b[0m\u001b[1;33m\u001b[0m\u001b[1;33m\u001b[0m\u001b[0m\n\u001b[0;32m    301\u001b[0m         \u001b[1;32mraise\u001b[0m \u001b[0mValueError\u001b[0m\u001b[1;33m(\u001b[0m\u001b[1;34m\"%s is not supported\"\u001b[0m \u001b[1;33m%\u001b[0m \u001b[0my_type\u001b[0m\u001b[1;33m)\u001b[0m\u001b[1;33m\u001b[0m\u001b[1;33m\u001b[0m\u001b[0m\n",
      "\u001b[1;32mc:\\Users\\NESTOR\\Documents\\UAB\\Master\\RI\\RI_Entrega\\.venv\\lib\\site-packages\\sklearn\\metrics\\_classification.py\u001b[0m in \u001b[0;36m_check_targets\u001b[1;34m(y_true, y_pred)\u001b[0m\n\u001b[0;32m     91\u001b[0m     \u001b[1;32mif\u001b[0m \u001b[0mlen\u001b[0m\u001b[1;33m(\u001b[0m\u001b[0my_type\u001b[0m\u001b[1;33m)\u001b[0m \u001b[1;33m>\u001b[0m \u001b[1;36m1\u001b[0m\u001b[1;33m:\u001b[0m\u001b[1;33m\u001b[0m\u001b[1;33m\u001b[0m\u001b[0m\n\u001b[0;32m     92\u001b[0m         raise ValueError(\"Classification metrics can't handle a mix of {0} \"\n\u001b[1;32m---> 93\u001b[1;33m                          \"and {1} targets\".format(type_true, type_pred))\n\u001b[0m\u001b[0;32m     94\u001b[0m \u001b[1;33m\u001b[0m\u001b[0m\n\u001b[0;32m     95\u001b[0m     \u001b[1;31m# We can't have more than one value on y_type => The set is no more needed\u001b[0m\u001b[1;33m\u001b[0m\u001b[1;33m\u001b[0m\u001b[1;33m\u001b[0m\u001b[0m\n",
      "\u001b[1;31mValueError\u001b[0m: Classification metrics can't handle a mix of unknown and multiclass targets"
     ]
    }
   ],
   "source": [
    "def plot_feature_importance(feature_importance, figsize=(12, 8)):\n",
    "    \"\"\"\n",
    "    Creates an enhanced feature importance visualization\n",
    "\n",
    "    :param feature_importance: DataFrame with feature importance values\n",
    "    :param figsize: Figure size\n",
    "    \"\"\"\n",
    "    plt.figure(figsize=figsize)\n",
    "\n",
    "    bars = plt.barh(\n",
    "        feature_importance[\"feature\"],\n",
    "        feature_importance[\"importance\"],\n",
    "        color=\"skyblue\",\n",
    "        alpha=0.8,\n",
    "    )\n",
    "\n",
    "    for bar in bars:\n",
    "        width = bar.get_width()\n",
    "        plt.text(\n",
    "            width,\n",
    "            bar.get_y() + bar.get_height() / 2,\n",
    "            f\"{width:.5f}\",\n",
    "            ha=\"left\",\n",
    "            va=\"center\",\n",
    "            fontsize=10,\n",
    "        )\n",
    "\n",
    "    plt.xlabel(\"Feature Importance Score\")\n",
    "    plt.ylabel(\"Features\")\n",
    "    plt.title(\"Feature Importance Analysis\", pad=20)\n",
    "\n",
    "    plt.grid(axis=\"x\", linestyle=\"--\", alpha=0.7)\n",
    "    plt.gca().invert_yaxis()\n",
    "\n",
    "    plt.tight_layout()\n",
    "    plt.show()\n",
    "\n",
    "\n",
    "def plot_confusion_matrix_analysis(y_true, y_pred, clf, figsize=(15, 5)):\n",
    "    \"\"\"\n",
    "    Creates a comprehensive confusion matrix analysis with metrics\n",
    "\n",
    "    :param y_true: True labels\n",
    "    :param y_pred: Predicted labels\n",
    "    :param clf: Classifier used for prediction\n",
    "    :param figsize: Figure size\n",
    "    \"\"\"\n",
    "    conf_matrix = confusion_matrix(y_true, y_pred)\n",
    "\n",
    "    classes = clf.classes_\n",
    "    class_names = [\n",
    "        f\"Class {c}\" if isinstance(c, (int, np.integer)) else str(c) for c in classes\n",
    "    ]\n",
    "\n",
    "    precision, recall, f1, support = precision_recall_fscore_support(y_true, y_pred)\n",
    "\n",
    "    fig, (ax1, ax2) = plt.subplots(1, 2, figsize=figsize)\n",
    "\n",
    "    sns.heatmap(\n",
    "        conf_matrix,\n",
    "        annot=True,\n",
    "        fmt=\"d\",\n",
    "        cmap=\"Blues\",\n",
    "        xticklabels=class_names,\n",
    "        yticklabels=class_names,\n",
    "        ax=ax1,\n",
    "    )\n",
    "    ax1.set_xlabel(\"Predicted\")\n",
    "    ax1.set_ylabel(\"Actual\")\n",
    "    ax1.set_title(\"Confusion Matrix\")\n",
    "\n",
    "    metrics_data = pd.DataFrame(\n",
    "        {\"Precision\": precision, \"Recall\": recall, \"F1-Score\": f1}, index=class_names\n",
    "    )\n",
    "\n",
    "    sns.heatmap(metrics_data, annot=True, fmt=\".3f\", cmap=\"RdYlGn\", ax=ax2)\n",
    "    ax2.set_title(\"Performance Metrics by Class\")\n",
    "\n",
    "    plt.tight_layout()\n",
    "    plt.show()\n",
    "\n",
    "    print(\"\\nDetailed Classification Report:\")\n",
    "    print(classification_report(y_true, y_pred, target_names=class_names))\n",
    "\n",
    "\n",
    "def analyze_model_performance(feature_importance, y_true, y_pred, clf):\n",
    "    \"\"\"\n",
    "    Performs comprehensive model analysis\n",
    "\n",
    "    :param feature_importance: DataFrame with feature importance values\n",
    "    :param y_true: True labels\n",
    "    :param y_pred: Predicted labels\n",
    "    :param clf: Classifier used for prediction\n",
    "    \"\"\"\n",
    "    print(\"=== Model Performance Analysis ===\\n\")\n",
    "\n",
    "    plot_feature_importance(feature_importance)\n",
    "    plot_confusion_matrix_analysis(y_true, y_pred, clf)\n",
    "\n",
    "    accuracy = (y_true == y_pred).mean()\n",
    "    print(f\"\\nOverall Model Accuracy: {accuracy:.3f}\")\n",
    "\n",
    "\n",
    "feature_importance = pd.DataFrame(\n",
    "    {\n",
    "        \"feature\": features,\n",
    "        \"importance\": clf.feature_importances_,\n",
    "    }\n",
    ")\n",
    "feature_importance = feature_importance.sort_values(\"importance\", ascending=False)\n",
    "analyze_model_performance(feature_importance, y_val, y_val_pred, clf)"
   ]
  },
  {
   "cell_type": "markdown",
   "metadata": {},
   "source": [
    "Class 0 --> Away win"
   ]
  },
  {
   "cell_type": "markdown",
   "metadata": {},
   "source": [
    "Class 1 --> Tie\n"
   ]
  },
  {
   "cell_type": "markdown",
   "metadata": {},
   "source": [
    "Class 2 --> Home win"
   ]
  },
  {
   "cell_type": "markdown",
   "metadata": {},
   "source": [
    "Here we can see which features are the most important ones in our model, with \"win_punct\" being the most important, followed closely by \"lost_punct\". It seems that the function we used to model these two indexes really encapsulated some real behavior of winning teams.\n",
    "\n",
    "These are followed by the relative points index, which is very important, but less so than the confrontation history between both teams. After that, last season points come, and finally, the last five matches are the least important.\n",
    "\n",
    "From these results, we can extract the information that, when two teams confront each other, what will be more decisive is how they have performed against each other in the last match, especially those that have been disputed closer in time. Also, how the teams are performing that season is relevant, more so than how they performed last season. Finally, how the last matches have gone is not especially relevant for the current match."
   ]
  },
  {
   "cell_type": "markdown",
   "metadata": {},
   "source": [
    "From the confusion matrix, we can see that the model tends to give false positives for class 2 predictions. This could be explained by the fact that more than 50% of the matches are won by the local team (as seen in Ex1 and the support value), so it's an optimal strategy for the model to overestimate this possibility. This can be checked with the 0.95 recall value and also explains the difference with the 0.7 precision.\n",
    "\n",
    "On the other hand, ties are the most difficult to predict (F1=0.57). This could be caused by the 'instability' in a tie result match. Those matches that end in a tie could be swayed by one team or the other very easily (maybe one goal occasion missed), making this prediction much more difficult to achieve.\n",
    "\n",
    "Lower values on the macro average also confirm this favoritism of the model for the majority class (local win)"
   ]
  },
  {
   "cell_type": "markdown",
   "metadata": {},
   "source": [
    "## Example of usage"
   ]
  },
  {
   "cell_type": "markdown",
   "metadata": {},
   "source": [
    "If we now want to use it to properly predict one matchday and see the precision of a single matchday we can do the following. However, a software functionality has been developed and can be accessed using cli.py"
   ]
  },
  {
   "cell_type": "code",
   "execution_count": null,
   "metadata": {},
   "outputs": [],
   "source": [
    "model_path = \"../models/model2-11-20s-7f.pkl\"\n",
    "\n",
    "if os.path.exists(model_path):\n",
    "    clf = joblib.load(model_path)\n",
    "else:\n",
    "    print(\n",
    "        f\"Model file not found at {model_path}, uncomment the previous cell to train the model\"\n",
    "    )"
   ]
  },
  {
   "cell_type": "code",
   "execution_count": null,
   "metadata": {},
   "outputs": [],
   "source": [
    "season_to_predict = 2020\n",
    "matchday_to_predict = 34\n",
    "\n",
    "df_predict = df.loc[\n",
    "    (df[\"season\"] == season_to_predict)\n",
    "    & (df[\"matchday\"] == matchday_to_predict)\n",
    "    & (df[\"division\"] == 1)\n",
    "].copy()\n",
    "\n",
    "df_predict = inform_relatives_points(df, df_predict)\n",
    "df_predict = inform_win_lost_index(df, df_predict)\n",
    "df_predict = last5index(df, df_predict)\n",
    "df_predict = last_season_position(df, df_predict)\n",
    "x_predict = df_predict[features]\n",
    "\n",
    "y_predict = clf.predict(x_predict)\n",
    "y_predict = le.inverse_transform(y_predict)\n",
    "df_predict[\"prediction\"] = y_predict\n",
    "df_predict[\"correct\"] = df_predict[\"result\"] == df_predict[\"prediction\"]\n",
    "print(df_predict[\"correct\"].sum() / df_predict.shape[0] * 100)\n",
    "df_predict[\"prediction\"] = df_predict[\"prediction\"].map({1: \"1\", 0: \"X\", -1: \"2\"})\n",
    "df_predict"
   ]
  },
  {
   "cell_type": "code",
   "execution_count": null,
   "metadata": {},
   "outputs": [],
   "source": [
    "df_predict_quiniela = df_predict[\n",
    "    [\"season\", \"matchday\", \"home_team\", \"away_team\", \"result\", \"prediction\", \"correct\"]\n",
    "].copy()\n",
    "\n",
    "\n",
    "def quiniela_format(df):\n",
    "    df[\"result\"] = df[\"result\"].map({1: \"1\", 0: \"X\", -1: \"2\"})\n",
    "    return df\n",
    "\n",
    "\n",
    "df_predict_quiniela = quiniela_format(df_predict_quiniela)\n",
    "df_predict_quiniela"
   ]
  }
 ],
 "metadata": {
  "kernelspec": {
   "display_name": ".venv",
   "language": "python",
   "name": "python3"
  },
  "language_info": {
   "codemirror_mode": {
    "name": "ipython",
    "version": 3
   },
   "file_extension": ".py",
   "mimetype": "text/x-python",
   "name": "python",
   "nbconvert_exporter": "python",
   "pygments_lexer": "ipython3",
   "version": "3.7.9"
  }
 },
 "nbformat": 4,
 "nbformat_minor": 2
}
