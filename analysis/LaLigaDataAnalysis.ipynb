{
 "cells": [
  {
   "cell_type": "code",
   "execution_count": 270,
   "metadata": {},
   "outputs": [],
   "source": [
    "import numpy as np\n",
    "import pandas as pd\n",
    "from pandas import DataFrame\n",
    "import sqlite3\n",
    "import sys\n",
    "from typing import Tuple\n",
    "import os\n",
    "import operator\n",
    "import matplotlib.pyplot as plt\n",
    "from matplotlib.lines import Line2D\n",
    "\n",
    "# Si\n",
    "# Segur q es pot arreglar d\"una altra forma\n",
    "sys.path.append(os.path.abspath(os.path.join(os.getcwd(), \"..\")))\n",
    "\n",
    "import settings"
   ]
  },
  {
   "cell_type": "markdown",
   "metadata": {},
   "source": [
    "# UTILS"
   ]
  },
  {
   "cell_type": "markdown",
   "metadata": {},
   "source": [
    "## Dict"
   ]
  },
  {
   "cell_type": "code",
   "execution_count": 271,
   "metadata": {},
   "outputs": [],
   "source": [
    "# Abreviatures extracted from https://laligafv.foroactivo.com/t5325-abreviaturas-de-los-equipos\n",
    "team_names_3 = {\n",
    "    \"Alavés\": \"ALA\",\n",
    "    \"Athletic\": \"ATH\",\n",
    "    \"Atlético Madrid\": \"ATM\",\n",
    "    \"Barcelona\": \"BAR\",\n",
    "    \"CA Osasuna\": \"OSA\",\n",
    "    \"Celta de Vigo\": \"CEL\",\n",
    "    \"Cádiz CF\": \"CAD\",\n",
    "    \"Elche CF\": \"ELC\",\n",
    "    \"Getafe\": \"GET\",\n",
    "    \"Granada CF\": \"GRA\",\n",
    "    \"Levante\": \"LEV\",\n",
    "    \"Real Betis\": \"BET\",\n",
    "    \"Real Madrid\": \"RMA\",\n",
    "    \"Real Sociedad\": \"RSO\",\n",
    "    \"Real Valladolid\": \"VLL\",\n",
    "    \"SD Eibar\": \"EIB\",\n",
    "    \"SD Huesca\": \"HUE\",\n",
    "    \"Sevilla FC\": \"SEV\",\n",
    "    \"Valencia\": \"VAL\",\n",
    "    \"Villarreal\": \"VIL\",\n",
    "}"
   ]
  },
  {
   "cell_type": "markdown",
   "metadata": {},
   "source": [
    "## Functions"
   ]
  },
  {
   "cell_type": "code",
   "execution_count": 272,
   "metadata": {},
   "outputs": [],
   "source": [
    "def filter_season(df: DataFrame, season: str) -> DataFrame:\n",
    "    \"\"\"\n",
    "    Filters and returns the matches within a specified season.\n",
    "\n",
    "    :param df: DataFrame containing match data.\n",
    "    :param season: Season where values will be extracted\n",
    "\n",
    "    :return: DataFrame containing the matches within the specified season.\n",
    "    \"\"\"\n",
    "\n",
    "    return df.loc[df[\"season\"] == season]\n",
    "\n",
    "\n",
    "def extract_season_values(\n",
    "    df: DataFrame, season: str, column: str\n",
    ") -> Tuple[DataFrame, DataFrame]:\n",
    "    \"\"\"\n",
    "    Extracts and returns the counts of matches per weekday and per time within a specified season.\n",
    "\n",
    "    :param df: DataFrame containing match data.\n",
    "    :param season: Season where values will be extracted\n",
    "    :param column: The column name to be used for extracting time values.\n",
    "\n",
    "    :return: A tuple containing two DataFrames:\n",
    "        - df_weekday: DataFrame with counts of matches per weekday.\n",
    "        - df_time: DataFrame with counts of matches per time.\n",
    "    \"\"\"\n",
    "    df_season = filter_season(df, season)\n",
    "\n",
    "    df_weekday = df_season[\"date\"].dt.day_name().value_counts().reset_index()\n",
    "    df_weekday.columns = [\"weekday\", \"count\"]\n",
    "\n",
    "    df_time = df_season[column].value_counts().reset_index()\n",
    "    df_time.columns = [\"time\", \"count\"]\n",
    "    return df_weekday, df_time"
   ]
  },
  {
   "cell_type": "code",
   "execution_count": 273,
   "metadata": {},
   "outputs": [],
   "source": [
    "def won_games(df, team: str):\n",
    "    \"\"\"\n",
    "    Returns those winning games for a given team\n",
    "    \"\"\"\n",
    "    home_wins = (df[\"home_team\"] == team) & (df[\"home_win\"] == 1)\n",
    "    away_wins = (df[\"away_team\"] == team) & (df[\"away_win\"] == 1)\n",
    "    return df[home_wins | away_wins]\n",
    "\n",
    "\n",
    "def lost_games(df, team: str):\n",
    "    \"\"\"\n",
    "    Returns those winning games for a given team\n",
    "    \"\"\"\n",
    "    home_lost = (df[\"home_team\"] == team) & (df[\"home_win\"] == 0)\n",
    "    away_lost = (df[\"away_team\"] == team) & (df[\"away_win\"] == 0)\n",
    "\n",
    "    return df[home_lost | away_lost]\n",
    "\n",
    "\n",
    "def count_team_wins(df: DataFrame, team: str) -> int:\n",
    "    \"\"\"\n",
    "    Count the number of wins for a specified team in a given DataFrame.\n",
    "    \"\"\"\n",
    "    return won_games(df, team).shape[0]\n",
    "\n",
    "\n",
    "def count_team_lost(df: DataFrame, team: str) -> int:\n",
    "    \"\"\"\n",
    "    Count the number of lost for a specified team in a given DataFrame.\n",
    "    \"\"\"\n",
    "\n",
    "    return lost_games(df, team).shape[0]\n",
    "\n",
    "\n",
    "def count_team_goals(df: DataFrame, team: str) -> int:\n",
    "    \"\"\"\n",
    "    Count the total number of goals scored by a specific team.\n",
    "\n",
    "    :param df: The DataFrame containing match data.\n",
    "    :type df: pd.DataFrame\n",
    "    :param team: The name of the team for which to count the goals.\n",
    "    :type team: str\n",
    "    :return: The total number of goals scored by the team.\n",
    "    :rtype: int\n",
    "    \"\"\"\n",
    "    home_goals = df[df[\"home_team\"] == team]\n",
    "    away_goals = df[df[\"away_team\"] == team]\n",
    "    return home_goals[\"home_score\"].sum() + away_goals[\"away_score\"].sum()"
   ]
  },
  {
   "cell_type": "markdown",
   "metadata": {},
   "source": [
    "# LOAD DATA"
   ]
  },
  {
   "cell_type": "code",
   "execution_count": 274,
   "metadata": {},
   "outputs": [],
   "source": [
    "with sqlite3.connect(settings.DATABASE_PATH) as conn:\n",
    "    df = pd.read_sql(\n",
    "        f\"\"\"\n",
    "            SELECT * FROM Matches\n",
    "        \"\"\",\n",
    "        conn,\n",
    "    )"
   ]
  },
  {
   "cell_type": "markdown",
   "metadata": {},
   "source": [
    "## Pretreatment"
   ]
  },
  {
   "cell_type": "markdown",
   "metadata": {},
   "source": [
    "Date is provided as mm/dd/YY as there two centuries (1900/2000) the format mm/dd/YYYY will be used to more clear."
   ]
  },
  {
   "cell_type": "code",
   "execution_count": 275,
   "metadata": {},
   "outputs": [],
   "source": [
    "def adjust_date(row):\n",
    "    \"\"\"\n",
    "    Adjust the date by adding the correct century based on the season.\n",
    "    If the date\"s year is less than the season\"s end year, use the start year,\n",
    "    otherwise use the end year of the season.\n",
    "\n",
    "    :param row: A row from the DataFrame containing \"date\" and \"season\".\n",
    "    :return: Adjusted date string in the format DD/MM/YYYY.\n",
    "    \"\"\"\n",
    "    start_year = int(row[\"season\"].split(\"-\")[0])\n",
    "    end_year = int(row[\"season\"].split(\"-\")[1])\n",
    "    date_year = int(row[\"date\"].split(\"/\")[-1])\n",
    "\n",
    "    if date_year == start_year % 100:\n",
    "        return row[\"date\"][:-2] + str(start_year)\n",
    "    else:\n",
    "        return row[\"date\"][:-2] + str(end_year)\n",
    "\n",
    "\n",
    "df[\"date\"] = df.apply(adjust_date, axis=1)\n",
    "df = df.dropna(subset=[\"date\"])\n",
    "df[\"date\"] = pd.to_datetime(df[\"date\"], format=\"%m/%d/%Y\")"
   ]
  },
  {
   "cell_type": "markdown",
   "metadata": {},
   "source": [
    "Pendent de veure amb que omplim els valors nuls"
   ]
  },
  {
   "cell_type": "code",
   "execution_count": 276,
   "metadata": {},
   "outputs": [],
   "source": [
    "df = df.dropna(subset=[\"score\"])"
   ]
  },
  {
   "cell_type": "markdown",
   "metadata": {},
   "source": [
    "Creation of util columns that will be used commonly. "
   ]
  },
  {
   "cell_type": "code",
   "execution_count": 277,
   "metadata": {},
   "outputs": [],
   "source": [
    "df[\"home_score\"] = df[\"score\"].str.split(\":\").str[0].astype(int)\n",
    "df[\"away_score\"] = df[\"score\"].str.split(\":\").str[1].astype(int)"
   ]
  },
  {
   "cell_type": "code",
   "execution_count": 278,
   "metadata": {},
   "outputs": [],
   "source": [
    "df[\"home_win\"] = (df[\"home_score\"] > df[\"away_score\"]).astype(int)\n",
    "df[\"away_win\"] = (df[\"home_score\"] < df[\"away_score\"]).astype(int)\n",
    "df[\"tie\"] = (df[\"home_score\"] == df[\"away_score\"]).astype(int)"
   ]
  },
  {
   "cell_type": "markdown",
   "metadata": {},
   "source": [
    "## EX 1"
   ]
  },
  {
   "cell_type": "code",
   "execution_count": 279,
   "metadata": {},
   "outputs": [],
   "source": [
    "home_wins = df[\"home_win\"].sum()\n",
    "away_wins = df[\"away_win\"].sum()\n",
    "ties = df[\"tie\"].sum()"
   ]
  },
  {
   "cell_type": "code",
   "execution_count": null,
   "metadata": {},
   "outputs": [],
   "source": [
    "labels = [\"home Wins\", \"away Wins\", \"Ties\"]\n",
    "sizes = [home_wins, away_wins, ties]\n",
    "\n",
    "plt.figure(figsize=(4, 4))\n",
    "plt.pie(sizes, labels=labels, autopct=\"%1.1f%%\")\n",
    "\n",
    "plt.title(\"Match results\")"
   ]
  },
  {
   "cell_type": "markdown",
   "metadata": {},
   "source": [
    "# Ex2"
   ]
  },
  {
   "cell_type": "code",
   "execution_count": 281,
   "metadata": {},
   "outputs": [],
   "source": [
    "df_1 = df.loc[df[\"division\"] == 1].copy()"
   ]
  },
  {
   "cell_type": "code",
   "execution_count": null,
   "metadata": {},
   "outputs": [],
   "source": [
    "scored_goals = (\n",
    "    df_1.groupby(\"home_team\")[\"home_score\"].sum()\n",
    "    + df_1.groupby(\"away_team\")[\"away_score\"].sum()\n",
    ").sort_values(ascending=False)\n",
    "\n",
    "top_10_scored = scored_goals[:10]\n",
    "\n",
    "print(top_10_scored)"
   ]
  },
  {
   "cell_type": "code",
   "execution_count": null,
   "metadata": {},
   "outputs": [],
   "source": [
    "conceded_goals = (\n",
    "    df_1.groupby(\"home_team\")[\"away_score\"].sum()\n",
    "    + df_1.groupby(\"away_team\")[\"home_score\"].sum()\n",
    ").sort_values(ascending=False)\n",
    "\n",
    "top_10_conceded = conceded_goals[:10]\n",
    "\n",
    "print(top_10_conceded)"
   ]
  },
  {
   "cell_type": "code",
   "execution_count": null,
   "metadata": {},
   "outputs": [],
   "source": [
    "fig, axs = plt.subplots(1, 2, figsize=(14, 6))\n",
    "\n",
    "top_10_scored.plot(kind=\"bar\", color=\"red\", ax=axs[0])\n",
    "axs[0].set_title(\"Top 10 Teams with Most Scored Goals\")\n",
    "axs[0].set_xlabel(\"Teams\")\n",
    "axs[0].set_ylabel(\"Total Scored Goals\")\n",
    "axs[0].set_xticklabels(top_10_scored.index, rotation=45)\n",
    "axs[0].grid(axis=\"y\")\n",
    "\n",
    "top_10_conceded.plot(kind=\"bar\", color=\"skyblue\", ax=axs[1])\n",
    "axs[1].set_title(\"Top 10 Teams with Most Conceded Goals\")\n",
    "axs[1].set_xlabel(\"Teams\")\n",
    "axs[1].set_ylabel(\"Total Conceded Goals\")\n",
    "axs[1].set_xticklabels(top_10_conceded.index, rotation=45)\n",
    "axs[1].grid(axis=\"y\")"
   ]
  },
  {
   "cell_type": "code",
   "execution_count": null,
   "metadata": {},
   "outputs": [],
   "source": [
    "df_1[\"difference_score\"] = df_1[\"home_score\"] - df_1[\"away_score\"]\n",
    "df_1[\"abs_difference_score\"] = df_1[\"difference_score\"].abs()\n",
    "df_1.sort_values(\"abs_difference_score\", ascending=False).head(10)[\n",
    "    [\"home_team\", \"away_team\", \"score\"]\n",
    "]"
   ]
  },
  {
   "cell_type": "markdown",
   "metadata": {},
   "source": [
    "# EX3"
   ]
  },
  {
   "cell_type": "code",
   "execution_count": 41,
   "metadata": {},
   "outputs": [
    {
     "data": {
      "image/png": "[encoded data removed]",
      "text/plain": [
       "<Figure size 1000x1000 with 2 Axes>"
      ]
     },
     "metadata": {},
     "output_type": "display_data"
    }
   ],
   "source": [
    "df_weekday = df[\"date\"].dt.day_name().value_counts()\n",
    "df_time = df[\"time\"].value_counts()\n",
    "\n",
    "df_weekday = df_weekday.reset_index()\n",
    "df_weekday.columns = [\"weekday\", \"count\"]\n",
    "\n",
    "df_time = df_time.reset_index()\n",
    "df_time.columns = [\"time\", \"count\"]\n",
    "\n",
    "def round_down_minutes(dt):\n",
    "    if dt.minute in [0, 29]:\n",
    "        return dt.replace(minute=0) \n",
    "    else:\n",
    "        return dt.replace(minute=30)\n",
    "    \n",
    "df_time[\"time\"] = pd.to_datetime(df_time[\"time\"], format=\"%I:%M %p\")\n",
    "df_time[\"time\"] = df_time[\"time\"].apply(round_down_minutes)\n",
    "\n",
    "df_time = df_time.sort_values(by=\"time\")\n",
    "\n",
    "fig, axes = plt.subplots(nrows=2, ncols=1, figsize=(10, 10))\n",
    "\n",
    "axes[0].bar(df_weekday[\"weekday\"], df_weekday[\"count\"], color=\"blue\")\n",
    "axes[0].set_title(\"Matches Each Weekday\")\n",
    "axes[0].set_xlabel(\"Weekday\")\n",
    "axes[0].set_ylabel(\"Number of matches\")\n",
    "axes[0].set_xticks(range(len(df_weekday[\"weekday\"])))\n",
    "axes[0].set_xticklabels(df_weekday[\"weekday\"], rotation=45)\n",
    "axes[0].grid(axis=\"y\")\n",
    "\n",
    "axes[1].bar(df_time[\"time\"].dt.strftime(\"%I:%M %p\"), df_time[\"count\"], color='green')\n",
    "axes[1].set_title(\"Histogram of Match Time\")\n",
    "axes[1].set_xlabel(\"Match Time\")\n",
    "axes[1].set_ylabel(\"Number of matches\")\n",
    "axes[1].tick_params(axis='x', rotation=45)  \n",
    "axes[1].grid(axis=\"y\")\n",
    "\n",
    "plt.subplots_adjust(hspace=0.5)\n",
    "\n",
    "plt.show()"
   ]
  },
  {
   "cell_type": "code",
   "execution_count": null,
   "metadata": {},
   "outputs": [],
   "source": [
    "df_weekday_2000, df_time_2000 = extract_season_values(df, \"2000-2001\", \"date\")\n",
    "df_weekday_2020, df_time_2020 = extract_season_values(df, \"2020-2021\", \"date\")\n",
    "\n",
    "fig, axes = plt.subplots(nrows=2, ncols=1, figsize=(10, 10))\n",
    "\n",
    "axes[0].bar(df_weekday_2000[\"weekday\"], df_weekday_2000[\"count\"], color=\"blue\")\n",
    "axes[0].set_title(\"Matches Each Weekday Season 2000-2001\")\n",
    "axes[0].set_xlabel(\"Weekday\")\n",
    "axes[0].set_ylabel(\"Number of matches\")\n",
    "axes[0].set_xticks(range(len(df_weekday_2000[\"weekday\"])))\n",
    "axes[0].set_xticklabels(df_weekday_2000[\"weekday\"], rotation=45)\n",
    "axes[0].grid(axis=\"y\")\n",
    "\n",
    "axes[1].bar(df_weekday_2020[\"weekday\"], df_weekday_2020[\"count\"], color=\"green\")\n",
    "axes[1].set_title(\"Matches Each Weekday Season 2020-2021\")\n",
    "axes[1].set_xlabel(\"Weekday\")\n",
    "axes[1].set_ylabel(\"Number of matches\")\n",
    "axes[1].set_xticks(range(len(df_weekday_2020[\"weekday\"])))\n",
    "axes[1].set_xticklabels(df_weekday_2020[\"weekday\"], rotation=45)\n",
    "axes[1].grid(axis=\"y\")\n",
    "\n",
    "plt.subplots_adjust(hspace=0.5)\n",
    "\n",
    "plt.show()"
   ]
  },
  {
   "cell_type": "markdown",
   "metadata": {},
   "source": [
    "# EX4"
   ]
  },
  {
   "cell_type": "code",
   "execution_count": 288,
   "metadata": {},
   "outputs": [],
   "source": [
    "def highlight_wins(val):\n",
    "    if isinstance(val, str):\n",
    "        val = int(val.split(\":\")[0]) - int(val.split(\":\")[1])\n",
    "    if val > 0:\n",
    "        intensity = min(val / 10, 1)\n",
    "        return f\"background-color: rgba(0, 255, 0, {intensity})\"\n",
    "    elif val < 0:\n",
    "        intensity = min(-val / 10, 1)\n",
    "        return f\"background-color: rgba(255, 0, 0, {intensity})\"\n",
    "    elif val == 0:\n",
    "        intensity = 0.5\n",
    "        return f\"background-color: rgba(255, 255, 0, {intensity})\"\n",
    "    elif val == \"\":\n",
    "        return f\"background-color: rgba(255, 255, 255, 1)\"\n",
    "    return \"\""
   ]
  },
  {
   "cell_type": "code",
   "execution_count": null,
   "metadata": {},
   "outputs": [],
   "source": [
    "df_2020 = filter_season(df_1, \"2020-2021\")\n",
    "\n",
    "cross_table = pd.crosstab(\n",
    "    df_2020[\"home_team\"], df_2020[\"away_team\"], values=df_2020[\"score\"], aggfunc=\"sum\"\n",
    ")\n",
    "\n",
    "cross_table = cross_table.rename(columns=team_names_3)\n",
    "\n",
    "cross_table.index.name = None\n",
    "cross_table.columns.name = \"Home & Away\"\n",
    "\n",
    "cross_table = cross_table.style.applymap(highlight_wins)\n",
    "\n",
    "cross_table"
   ]
  },
  {
   "cell_type": "code",
   "execution_count": 290,
   "metadata": {},
   "outputs": [],
   "source": [
    "# queda fer la funcio"
   ]
  },
  {
   "cell_type": "markdown",
   "metadata": {},
   "source": [
    "# EX5"
   ]
  },
  {
   "cell_type": "code",
   "execution_count": 291,
   "metadata": {},
   "outputs": [],
   "source": [
    "def team_confrontations(df, team1, team2):\n",
    "    df_confrontations = df.loc[\n",
    "        ((df[\"home_team\"] == team1) | (df[\"away_team\"] == team1))\n",
    "        & ((df[\"home_team\"] == team2) | (df[\"away_team\"] == team2))\n",
    "    ]\n",
    "\n",
    "    return df_confrontations"
   ]
  },
  {
   "cell_type": "code",
   "execution_count": null,
   "metadata": {},
   "outputs": [],
   "source": [
    "df_bm = team_confrontations(df, \"Barcelona\", \"Real Madrid\")\n",
    "bcn_wins = count_team_wins(df_bm, \"Barcelona\")\n",
    "mad_wins = count_team_wins(df_bm, \"Real Madrid\")\n",
    "ties = df_bm[\"tie\"].sum()\n",
    "print(\n",
    "    f\"Barcelona has won {bcn_wins} games, while Real Madrid has won {mad_wins} games. There has been {ties} ties.\"\n",
    ")"
   ]
  },
  {
   "cell_type": "code",
   "execution_count": null,
   "metadata": {},
   "outputs": [],
   "source": [
    "bcn_goals = count_team_goals(df_bm, \"Barcelona\")\n",
    "mad_goals = count_team_goals(df_bm, \"Real Madrid\")\n",
    "\n",
    "print(\n",
    "    f\"Barcelona has scored {bcn_goals} goals, while Real Madrid has scored {mad_goals} goals\"\n",
    ")"
   ]
  },
  {
   "cell_type": "code",
   "execution_count": 294,
   "metadata": {},
   "outputs": [],
   "source": [
    "def plot_direct_confrontations_stats(df: DataFrame, team1: str, team2: str):\n",
    "    \"\"\"\n",
    "    Plot the statistics of direct confrontations between two teams.\n",
    "\n",
    "    :param df: The DataFrame containing match data.\n",
    "    :type df: pd.DataFrame\n",
    "    :param team1: The name of the first team.\n",
    "    :type team1: str\n",
    "    :param team2: The name of the second team.\n",
    "    :type team2: str\n",
    "    \"\"\"\n",
    "    if team1 not in team_names_3:\n",
    "        raise ValueError(f\"Team {team1} not found in the team names dictionary.\")\n",
    "    if team2 not in team_names_3:\n",
    "        raise ValueError(f\"Team {team2} not found in the team names dictionary.\")\n",
    "\n",
    "    df_confrontations = team_confrontations(df, team1, team2)\n",
    "    team1_wins = count_team_wins(df_confrontations, team1)\n",
    "    team2_wins = count_team_wins(df_confrontations, team2)\n",
    "    ties = df_confrontations[\"tie\"].sum()\n",
    "\n",
    "    labels = [f\"{team1} Wins\", f\"{team2} Wins\", \"Ties\"]\n",
    "    sizes = [team1_wins, team2_wins, ties]\n",
    "\n",
    "    plt.figure(figsize=(5, 5))\n",
    "    plt.pie(sizes, labels=labels, autopct=\"%1.1f%%\")\n",
    "\n",
    "    plt.title(\"Match results\")\n",
    "    plt.show()"
   ]
  },
  {
   "cell_type": "code",
   "execution_count": null,
   "metadata": {},
   "outputs": [],
   "source": [
    "plot_direct_confrontations_stats(df, \"Real Betis\", \"Sevilla FC\")\n",
    "plot_direct_confrontations_stats(df, \"Barcelona\", \"Athletic\")"
   ]
  },
  {
   "cell_type": "markdown",
   "metadata": {},
   "source": [
    "# EX6"
   ]
  },
  {
   "cell_type": "code",
   "execution_count": 296,
   "metadata": {},
   "outputs": [],
   "source": [
    "# LOGICA MOLT MILLORALBE\n",
    "\n",
    "\n",
    "def replace_strikes_with_max(data):\n",
    "    \"\"\"\n",
    "    Replace each sequence of consecutive increasing non-zero numbers in the array\n",
    "    with the maximum value of that sequence.\n",
    "    \"\"\"\n",
    "    arr = np.array(data)\n",
    "\n",
    "    non_zero_mask = arr != 0\n",
    "\n",
    "    streak_starts = np.diff(np.concatenate(([0], non_zero_mask.astype(int))))\n",
    "    start_indices = np.where(streak_starts == 1)[0]\n",
    "\n",
    "    end_indices = np.where(streak_starts == -1)[0]\n",
    "    if non_zero_mask[-1]:\n",
    "        end_indices = np.append(end_indices, len(arr))\n",
    "\n",
    "    for start, end in zip(start_indices, end_indices):\n",
    "        arr[start:end] = np.max(arr[start:end])\n",
    "\n",
    "    return set(arr)\n",
    "\n",
    "\n",
    "def calculate_non_lose_strike(df, team):\n",
    "    \"\"\"\n",
    "    Calculate the non-lose streak for a given team, and replace each strike with its maximum value.\n",
    "    \"\"\"\n",
    "    # AIXO FALLA, S'HA DE MIGRAR A LOGICA GROUP_BY\n",
    "    df_team = select_team(df, team)\n",
    "\n",
    "    is_non_lose = df_team[\"is_non_lose\"].astype(int)\n",
    "    streak_group = (is_non_lose != is_non_lose.shift()).cumsum()\n",
    "    non_lose_streak = is_non_lose.groupby(streak_group).cumsum().values\n",
    "\n",
    "    return replace_strikes_with_max(non_lose_streak)"
   ]
  },
  {
   "cell_type": "code",
   "execution_count": null,
   "metadata": {},
   "outputs": [],
   "source": [
    "unique_teams = sorted(df[\"home_team\"].unique())\n",
    "\n",
    "try:\n",
    "    non_lose_strike_data = [\n",
    "        (team, strike)\n",
    "        for team in unique_teams\n",
    "        for strike in calculate_non_lose_strike(df, team)\n",
    "    ]\n",
    "\n",
    "    non_lose_strike_df = pd.DataFrame(\n",
    "        non_lose_strike_data, columns=[\"team\", \"strike\"]\n",
    "    ).sort_values(by=\"strike\", ascending=False)\n",
    "    print(\"Top 10 teams with biggest non-lose strikes ever are\", non_lose_strike_df)\n",
    "\n",
    "    top_50_non_lose_strike_df = non_lose_strike_df.head(50)\n",
    "\n",
    "    plt.figure(figsize=(12, 8))\n",
    "    plt.barh(\n",
    "        top_50_non_lose_strike_df[\"team\"],\n",
    "        top_50_non_lose_strike_df[\"strike\"],\n",
    "        color=\"skyblue\",\n",
    "    )\n",
    "    plt.xlabel(\"Non-Lose Strike\")\n",
    "    plt.ylabel(\"Team\")\n",
    "    plt.title(\"Top 50 Teams with Biggest Non-Lose Strikes\")\n",
    "    plt.gca().invert_yaxis()\n",
    "    plt.show()\n",
    "\n",
    "    # FALTA ACABAR, MARCANT LES DATES DE LES RATXES.\n",
    "except:\n",
    "    print(\"ERROR A SOLUCIONAR: FUNCIÓ calculate_non_lose_strike\")"
   ]
  },
  {
   "cell_type": "markdown",
   "metadata": {},
   "source": [
    "## EX 7"
   ]
  },
  {
   "cell_type": "code",
   "execution_count": null,
   "metadata": {},
   "outputs": [],
   "source": [
    "def calculate_team_results(df: pd.DataFrame) -> pd.DataFrame:\n",
    "    \"\"\"\n",
    "    Creates a DataFrame from a historic table of results to a final standings of each season and division.\n",
    "    It is ordered by points per season. In case two teams have same number of points, is ordered by GD (de-\n",
    "    scending), and then by GF (also descending).\n",
    "\n",
    "    :param df: DataFrame containing match data for all teams.\n",
    "    :return: DataFrame with results for each team and season.\n",
    "    \"\"\"\n",
    "\n",
    "    df_results = (\n",
    "        pd.concat(\n",
    "            [\n",
    "                df.groupby([\"division\", \"season\", \"home_team\"])\n",
    "                .agg(\n",
    "                    GF=(\"home_score\", \"sum\"),\n",
    "                    GA=(\"away_score\", \"sum\"),\n",
    "                    W=(\"home_win\", \"sum\"),\n",
    "                    L=(\"away_win\", \"sum\"),\n",
    "                    T=(\"tie\", \"sum\"),\n",
    "                )\n",
    "                .reset_index()\n",
    "                .rename(columns={\"home_team\": \"team\"}),\n",
    "                df.groupby([\"division\", \"season\", \"away_team\"])\n",
    "                .agg(\n",
    "                    GF=(\"away_score\", \"sum\"),\n",
    "                    GA=(\"home_score\", \"sum\"),\n",
    "                    W=(\"away_win\", \"sum\"),\n",
    "                    L=(\"home_win\", \"sum\"),\n",
    "                    T=(\"tie\", \"sum\"),\n",
    "                )\n",
    "                .reset_index()\n",
    "                .rename(columns={\"away_team\": \"team\"}),\n",
    "            ]\n",
    "        )\n",
    "        .groupby([\"division\", \"season\", \"team\"])\n",
    "        .sum()\n",
    "        .reset_index()\n",
    "    )\n",
    "\n",
    "    df_results[\"GD\"] = df_results[\"GF\"] - df_results[\"GA\"]\n",
    "    df_results[\"points\"] = df_results[\"W\"] * 3 + df_results[\"T\"]\n",
    "\n",
    "    df_results = df_results.sort_values(\n",
    "        by=[\"division\", \"season\", \"points\", \"GD\", \"GF\"],\n",
    "        ascending=[True, False, False, False, False],\n",
    "    ).reset_index(drop=True)\n",
    "\n",
    "    df_results[\"rank\"] = (\n",
    "        df_results.groupby([\"season\", \"division\"])[\"points\"]\n",
    "        .rank(\"first\", ascending=False)\n",
    "        .astype(int)\n",
    "    )\n",
    "\n",
    "    df_results = df_results[\n",
    "        [\n",
    "            \"season\",\n",
    "            \"division\",\n",
    "            \"rank\",\n",
    "            \"team\",\n",
    "            \"GF\",\n",
    "            \"GA\",\n",
    "            \"GD\",\n",
    "            \"W\",\n",
    "            \"L\",\n",
    "            \"T\",\n",
    "            \"points\",\n",
    "        ]\n",
    "    ]\n",
    "    return df_results\n",
    "\n",
    "\n",
    "df_results = calculate_team_results(df)\n",
    "# df_results.to_excel(\"../reports/SeasonStandings.xlsx\", index=False) Descomentar si es vol generar\n",
    "df_results"
   ]
  },
  {
   "cell_type": "markdown",
   "metadata": {},
   "source": [
    "## EX 8"
   ]
  },
  {
   "cell_type": "code",
   "execution_count": null,
   "metadata": {},
   "outputs": [],
   "source": [
    "# PODER ES POT FER D\"ALGUNA FORMA QUE NO S\"HAGI DE FER CAP MERGE\n",
    "division_1_season_counts = (\n",
    "    df_results[df_results[\"division\"] == 1]\n",
    "    .groupby(\"season\")\n",
    "    .size()\n",
    "    .reset_index(name=\"count\")\n",
    ")\n",
    "\n",
    "df_results = pd.merge(df_results, division_1_season_counts, on=\"season\", how=\"left\")\n",
    "\n",
    "df_results[\"extended rank\"] = df_results[\"rank\"]\n",
    "df_results.loc[df_results[\"division\"] == 2, \"extended rank\"] += df_results[\"count\"]\n",
    "\n",
    "df_results"
   ]
  },
  {
   "cell_type": "markdown",
   "metadata": {},
   "source": [
    "ES POT MILLORAR I FER-LA MÉS MACA:\n",
    "\n",
    "Fer les linies mes fines per q s\"entengui millor\n",
    "\n",
    "Separar la llegenda per info extra: 2a divisio, guerra civil\n",
    "\n",
    "Eliminar linia 2a divisio durant guerra civil\n",
    "\n",
    "Afegir docstrings"
   ]
  },
  {
   "cell_type": "code",
   "execution_count": 300,
   "metadata": {},
   "outputs": [],
   "source": [
    "def standard_plot_config_teams_rank(ax, seasons):\n",
    "    ax.plot(\n",
    "        division_1_season_counts[\"season\"],\n",
    "        division_1_season_counts[\"count\"],\n",
    "        label=\"2nd division\",\n",
    "        linestyle=\"dashed\",\n",
    "    )\n",
    "\n",
    "    ax.set_ylim(0, 40)\n",
    "    ax.set_xlim(\"1928-1929\", \"2019-2020\")\n",
    "\n",
    "    ax.vlines(\n",
    "        [\"1935-1936\", \"1939-1940\"],\n",
    "        ymin=ax.get_ylim()[0],\n",
    "        ymax=ax.get_ylim()[1],\n",
    "        colors=[\"black\", \"black\"],\n",
    "        linestyles=\"dashed\",\n",
    "        linewidth=1,\n",
    "    )\n",
    "\n",
    "    ax.set_xlabel(\"Season\", fontsize=10)\n",
    "    ax.set_ylabel(\"Extended Rank\", fontsize=10)\n",
    "    ax.set_title(\"Ranking Evolution Over Seasons\", fontsize=12)\n",
    "\n",
    "    ax.set_xticks(range(0, len(seasons), 5))\n",
    "    ax.tick_params(axis=\"x\", rotation=45, labelsize=8)\n",
    "    ax.set_yticks(range(1, 41, 4))\n",
    "\n",
    "    ax.invert_yaxis()\n",
    "\n",
    "    vline1 = Line2D(\n",
    "        [0], [0], color=\"black\", linestyle=\"dashed\", label=\"Civil War Interruption\"\n",
    "    )\n",
    "\n",
    "    ax.legend(\n",
    "        loc=\"center left\", bbox_to_anchor=(1, 0.5), handles=ax.get_lines() + [vline1]\n",
    "    )\n",
    "\n",
    "    ax.grid(True)"
   ]
  },
  {
   "cell_type": "code",
   "execution_count": null,
   "metadata": {},
   "outputs": [],
   "source": [
    "seasons = [f\"{year}-{year+1}\" for year in range(1928, 2021)]\n",
    "\n",
    "villarreal_data = df_results[df_results[\"team\"] == \"Villarreal\"][\n",
    "    [\"season\", \"division\", \"extended rank\"]\n",
    "]\n",
    "\n",
    "# Reindex the DataFrame to include all seasons, filling missing values with NaN\n",
    "villarreal_data = villarreal_data.set_index(\"season\").reindex(seasons).reset_index()\n",
    "villarreal_data.rename(columns={\"index\": \"season\"}, inplace=True)\n",
    "\n",
    "fig, ax = plt.subplots(figsize=(10, 6))\n",
    "\n",
    "ax.plot(villarreal_data[\"season\"], villarreal_data[\"extended rank\"], label=\"Villarreal\")\n",
    "standard_plot_config_teams_rank(ax, seasons)\n",
    "ax.set_xlim(\"1970-1971\", \"2019-2020\")\n",
    "ax.legend(loc=\"center left\", bbox_to_anchor=(1, 0.5))\n",
    "\n",
    "plt.show()"
   ]
  },
  {
   "cell_type": "code",
   "execution_count": null,
   "metadata": {},
   "outputs": [],
   "source": [
    "def plot_ranking_evolution(df, *teams):\n",
    "    team_data = df_results[df_results[\"team\"].isin(teams)][\n",
    "        [\"team\", \"season\", \"extended rank\"]\n",
    "    ]\n",
    "    _, ax = plt.subplots(figsize=(10, 6))\n",
    "\n",
    "    for team in teams:\n",
    "        team_df = (\n",
    "            team_data[team_data[\"team\"] == team]\n",
    "            .set_index(\"season\")\n",
    "            .reindex(seasons)\n",
    "            .reset_index()\n",
    "        )\n",
    "        ax.plot(team_df[\"season\"], team_df[\"extended rank\"], label=team)\n",
    "\n",
    "    standard_plot_config_teams_rank(ax, seasons)\n",
    "\n",
    "    return plt\n",
    "\n",
    "\n",
    "actual_1st_teams = df_1.loc[df_1[\"season\"] == \"2021-2022\"][\"home_team\"].unique()\n",
    "\n",
    "plot_ranking_evolution(df_results, *actual_1st_teams).show()"
   ]
  },
  {
   "cell_type": "markdown",
   "metadata": {},
   "source": [
    "## EX 9"
   ]
  },
  {
   "cell_type": "code",
   "execution_count": null,
   "metadata": {},
   "outputs": [],
   "source": [
    "team_data = df_results.loc[df_results[\"team\"].isin(unique_teams)][\n",
    "    [\"team\", \"season\", \"division\", \"extended rank\"]\n",
    "].sort_values(\"season\")\n",
    "\n",
    "team_data[\"ascending/descending\"] = team_data.groupby(\"team\")[\"division\"].transform(\n",
    "    lambda x: (x != x.shift()).cumsum()\n",
    ")\n",
    "elevators_by_team = (\n",
    "    team_data.groupby(\"team\")[\"ascending/descending\"].max().sort_values(ascending=False)\n",
    ")\n",
    "\n",
    "top_5_elev_teams = elevators_by_team.head(5).index.tolist()\n",
    "\n",
    "plot_ranking_evolution(df, *top_5_elev_teams).show()"
   ]
  },
  {
   "cell_type": "markdown",
   "metadata": {},
   "source": [
    "## EX 10"
   ]
  },
  {
   "cell_type": "code",
   "execution_count": null,
   "metadata": {},
   "outputs": [],
   "source": [
    "def get_last_5_results(df, team, season):\n",
    "    df_team_season = df[(df[\"home_team\"] == team) | (df[\"away_team\"] == team)]\n",
    "    df_team_season = df_team_season[df_team_season[\"season\"] == season]\n",
    "\n",
    "    df_team_season[\"Result\"] = np.where(\n",
    "        (df_team_season[\"home_team\"] == team) & (df_team_season[\"home_win\"] == 1)\n",
    "        | (df_team_season[\"away_team\"] == team) & (df_team_season[\"away_win\"] == 1),\n",
    "        \"W\",\n",
    "        np.where(\n",
    "            (df_team_season[\"home_team\"] == team) & (df_team_season[\"home_win\"] == 0)\n",
    "            | (df_team_season[\"away_team\"] == team) & (df_team_season[\"away_win\"] == 0),\n",
    "            \"L\",\n",
    "            \"T\",\n",
    "        ),\n",
    "    )\n",
    "\n",
    "    last_5_results = (\n",
    "        df_team_season.sort_values(\"date\", ascending=False)[\"Result\"].head(5).tolist()\n",
    "    )\n",
    "    return f\"{last_5_results}\"\n",
    "\n",
    "\n",
    "df_results_extended = df_results.copy()\n",
    "df_results_extended[\"last5\"] = df_results_extended.apply(\n",
    "    lambda row: get_last_5_results(df, row[\"team\"], row[\"season\"]), axis=1\n",
    ")\n",
    "df_results_extended"
   ]
  },
  {
   "cell_type": "markdown",
   "metadata": {},
   "source": [
    "Aquest es un càlcul que podem paral·litzar. Com hem vist a Parallel Programming, com que tenim un loop on el resultat de la funció és independent de cada iteracció, en aquest cas es beneficios aplicar-ho.\n",
    "En python tenim ProcessPoolExecutor.\n",
    "\n",
    "D'aquesta forma el codi s'executa quasi 4 cops més ràpid."
   ]
  },
  {
   "cell_type": "code",
   "execution_count": null,
   "metadata": {},
   "outputs": [],
   "source": [
    "from concurrent.futures import ProcessPoolExecutor\n",
    "\n",
    "df_results_extended = df_results.copy()\n",
    "\n",
    "\n",
    "def get_last_5_results_for_row(row):\n",
    "    return get_last_5_results(df, row[\"team\"], row[\"season\"])\n",
    "\n",
    "\n",
    "with ProcessPoolExecutor(\n",
    "    max_workers=8\n",
    ") as executor:  # 8 és número òptim per al meu ordinador\n",
    "    df_results_extended[\"last5\"] = list(\n",
    "        executor.map(\n",
    "            get_last_5_results_for_row,\n",
    "            [row for _, row in df_results_extended.iterrows()],\n",
    "        )\n",
    "    )\n",
    "df_results_extended"
   ]
  }
 ],
 "metadata": {
  "kernelspec": {
   "display_name": "Python 3",
   "language": "python",
   "name": "python3"
  },
  "language_info": {
   "codemirror_mode": {
    "name": "ipython",
    "version": 3
   },
   "file_extension": ".py",
   "mimetype": "text/x-python",
   "name": "python",
   "nbconvert_exporter": "python",
   "pygments_lexer": "ipython3",
   "version": "3.10.12"
  }
 },
 "nbformat": 4,
 "nbformat_minor": 2
}
